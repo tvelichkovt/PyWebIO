{
 "cells": [
  {
   "cell_type": "code",
   "execution_count": 1,
   "id": "2925c81b",
   "metadata": {},
   "outputs": [],
   "source": [
    "# A simple script to calculate BMI\n",
    "from pywebio.input import input, FLOAT\n",
    "from pywebio.output import put_text\n",
    "\n",
    "def bmi():\n",
    "    height = input(\"Input your height(cm)：\", type=FLOAT)\n",
    "    weight = input(\"Input your weight(kg)：\", type=FLOAT)\n",
    "\n",
    "    BMI = weight / (height / 100) ** 2\n",
    "\n",
    "    top_status = [(16, 'Severely underweight'), (18.5, 'Underweight'),\n",
    "                  (25, 'Normal'), (30, 'Overweight'),\n",
    "                  (35, 'Moderately obese'), (float('inf'), 'Severely obese')]\n",
    "\n",
    "    for top, status in top_status:\n",
    "        if BMI <= top:\n",
    "            put_text('Your BMI: %.1f. Category: %s' % (BMI, status))\n",
    "            break\n",
    "\n",
    "if __name__ == '__main__':\n",
    "    bmi()"
   ]
  }
 ],
 "metadata": {
  "kernelspec": {
   "display_name": "Python 3",
   "language": "python",
   "name": "python3"
  },
  "language_info": {
   "codemirror_mode": {
    "name": "ipython",
    "version": 3
   },
   "file_extension": ".py",
   "mimetype": "text/x-python",
   "name": "python",
   "nbconvert_exporter": "python",
   "pygments_lexer": "ipython3",
   "version": "3.8.8"
  }
 },
 "nbformat": 4,
 "nbformat_minor": 5
}
